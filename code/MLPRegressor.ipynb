{
 "cells": [
  {
   "cell_type": "markdown",
   "id": "c6c9d3c1-f60f-4090-96b3-73b099d7e79c",
   "metadata": {},
   "source": [
    "### EDA Project - Boilerplate code\n",
    "##### TODO : Change Features and Model"
   ]
  },
  {
   "cell_type": "markdown",
   "id": "2cf4590c-1942-4ba1-87d5-d3c5d27129e2",
   "metadata": {},
   "source": [
    "### Imports"
   ]
  },
  {
   "cell_type": "code",
   "execution_count": 1,
   "id": "c57305b3-2cc0-4d49-ac0f-29aaa07fcafc",
   "metadata": {},
   "outputs": [],
   "source": [
    "from tqdm import tqdm\n",
    "import pandas as pd\n",
    "from sklearn.feature_extraction.text import TfidfVectorizer\n",
    "from sklearn.feature_extraction.text import CountVectorizer\n",
    "from sklearn.metrics import mean_absolute_error, mean_squared_error\n",
    "from sklearn.neural_network import MLPRegressor\n",
    "from sklearn.svm import SVR\n",
    "from sklearn.model_selection import train_test_split\n",
    "from sklearn.pipeline import Pipeline\n",
    "from sklearn.preprocessing import OneHotEncoder, StandardScaler\n",
    "from sklearn.compose import ColumnTransformer\n",
    "from sklearn.impute import SimpleImputer\n",
    "import random\n",
    "import matplotlib.pyplot as plt\n",
    "import seaborn as sns\n",
    "import os\n",
    "import pickle"
   ]
  },
  {
   "cell_type": "markdown",
   "id": "728fd04a-12ac-4ae8-9855-2c770bf9669c",
   "metadata": {},
   "source": [
    "### Constants"
   ]
  },
  {
   "cell_type": "code",
   "execution_count": 2,
   "id": "a0eff85e-68b4-4507-8c18-6f675a2afc17",
   "metadata": {},
   "outputs": [],
   "source": [
    "PATH_TRAIN = \"datasets/train.csv\"\n",
    "PATH_VALID = \"datasets/validation.csv\""
   ]
  },
  {
   "cell_type": "markdown",
   "id": "6b8de230-648e-46b6-9e86-5912be62fdee",
   "metadata": {},
   "source": [
    "### Read data"
   ]
  },
  {
   "cell_type": "code",
   "execution_count": 3,
   "id": "667a5259-db48-4874-8a25-a05e41796b3e",
   "metadata": {},
   "outputs": [
    {
     "name": "stdout",
     "output_type": "stream",
     "text": [
      "                     Versiune  Vechime      Km  Putere  Capacitate cilindrica  \\\n",
      "0          D4 AWD Inscription      6.0  124000     190                   1969   \n",
      "1      109 CDI Extralung Mixt      5.0   36000      90                   1461   \n",
      "2  1.6 BlueHDi FAP STT Active      8.0  219000     120                   1560   \n",
      "3      2.2 CRDi 2WD Signature      4.0   51500     202                   2151   \n",
      "4                  1.8 TSI FR     11.0  228300     160                   1798   \n",
      "\n",
      "           Marca     Model Combustibil     Transmisie Norma de poluare  \\\n",
      "0          Volvo     XC 60      Diesel  4x4 (automat)           Euro 6   \n",
      "1  Mercedes-Benz     Citan      Diesel           Fata           Euro 6   \n",
      "2        Peugeot       308      Diesel           Fata           Euro 6   \n",
      "3        Hyundai  Santa Fe      Diesel           Fata           Euro 6   \n",
      "4           Seat      Leon     Benzina           Fata           Euro 5   \n",
      "\n",
      "  Cutie de viteze Tip Caroserie Optiuni culoare Tara de origine        Stare  \n",
      "0        Automata           SUV      Metalizata          Italia  Second hand  \n",
      "1         Manuala     Monovolum      Metalizata         Romania  Second hand  \n",
      "2         Manuala         Combi      Metalizata          Olanda  Second hand  \n",
      "3        Automata           SUV      Metalizata          Franta  Second hand  \n",
      "4         Manuala      Compacta      Metalizata        Germania  Second hand  \n"
     ]
    }
   ],
   "source": [
    "data_train = pd.read_csv(PATH_TRAIN)\n",
    "data_valid = pd.read_csv(PATH_VALID)\n",
    "\n",
    "# Separate features (X) and target variable (y)\n",
    "y_train = data_train['Pret']\n",
    "X_train = data_train.drop('Pret', axis=1)\n",
    "\n",
    "y_valid = data_valid['Pret']\n",
    "X_valid = data_valid.drop('Pret', axis=1)\n",
    "\n",
    "print(X_train.head())"
   ]
  },
  {
   "cell_type": "markdown",
   "id": "81e71f52-72c2-42b4-bf6c-2295c5e286a0",
   "metadata": {},
   "source": [
    "### Features - TODO : play with ths"
   ]
  },
  {
   "cell_type": "code",
   "execution_count": 4,
   "id": "9cc8a877-a10a-46d5-8eb0-af2ed08ad3b7",
   "metadata": {},
   "outputs": [],
   "source": [
    "numeric_features = [\"Km\", \"Vechime\", \"Capacitate cilindrica\", \"Putere\"]\n",
    "categorical_features = [\"Marca\", \"Model\", \"Versiune\", \"Combustibil\", \"Transmisie\", \"Norma de poluare\", \"Tip Caroserie\", \"Cutie de viteze\", \"Stare\", \"Tara de origine\", \"Optiuni culoare\"]\n"
   ]
  },
  {
   "cell_type": "markdown",
   "id": "72d3409f-c5a8-4ecc-ba7f-bc83334d360d",
   "metadata": {},
   "source": [
    "### Preprocessor"
   ]
  },
  {
   "cell_type": "code",
   "execution_count": 5,
   "id": "ec377ada-258e-43c5-9b06-a93ccc34aaae",
   "metadata": {},
   "outputs": [],
   "source": [
    "numeric_transformer = Pipeline(steps=[\n",
    "    ('imputer', SimpleImputer(strategy='mean')),\n",
    "    ('scaler', StandardScaler())\n",
    "])\n",
    "\n",
    "categorical_transformer = Pipeline(steps=[\n",
    "    ('imputer', SimpleImputer(strategy='most_frequent')),\n",
    "    ('onehot', OneHotEncoder(handle_unknown='ignore'))\n",
    "])\n",
    "\n",
    "preprocessor = ColumnTransformer(\n",
    "    transformers=[\n",
    "        ('num', numeric_transformer, numeric_features),\n",
    "        ('cat', categorical_transformer, categorical_features)\n",
    "    ])"
   ]
  },
  {
   "cell_type": "markdown",
   "id": "c6618b8d-afc0-4028-aea2-6198a9eb9f63",
   "metadata": {},
   "source": [
    "### Model - TODO : play with this"
   ]
  },
  {
   "cell_type": "code",
   "execution_count": 6,
   "id": "ddaa59fb-c798-4ee6-96ce-ddbd14500e34",
   "metadata": {},
   "outputs": [
    {
     "name": "stdout",
     "output_type": "stream",
     "text": [
      "15\n",
      "3126\n",
      "3126 50 1\n"
     ]
    }
   ],
   "source": [
    "hidden_layer_sizes = (50)\n",
    "learning_rate_init = 0.01\n",
    "\n",
    "\n",
    "# Define the regressor\n",
    "regressor = MLPRegressor(hidden_layer_sizes = hidden_layer_sizes, learning_rate_init = learning_rate_init, max_iter = 10000000, random_state = 18, verbose=False)\n",
    "\n",
    "print(X_train.shape[1])\n",
    "print(preprocessor.fit_transform(X_train).shape[1])\n",
    "\n",
    "print(preprocessor.fit_transform(X_train).shape[1], hidden_layer_sizes, 1)"
   ]
  },
  {
   "cell_type": "code",
   "execution_count": 7,
   "id": "6b343841-b6f1-49b2-a31b-f988c9c7431a",
   "metadata": {},
   "outputs": [],
   "source": [
    "PATH_PLOTS = f\"plots_MLPRegressor_hidden_layer_sizes_{hidden_layer_sizes}_learning_rate_init_{learning_rate_init}\"\n",
    "os.makedirs(PATH_PLOTS, exist_ok=True)"
   ]
  },
  {
   "cell_type": "markdown",
   "id": "86d1ee80-dc24-4143-ae96-6a8a32800774",
   "metadata": {},
   "source": [
    "### Model Pipeline"
   ]
  },
  {
   "cell_type": "code",
   "execution_count": 8,
   "id": "7a06a8f6-bb79-4e7f-a49d-2ca063c24c34",
   "metadata": {},
   "outputs": [],
   "source": [
    "# Define the model\n",
    "model = Pipeline(steps=[\n",
    "    ('preprocessor', preprocessor),\n",
    "    ('regressor', regressor)\n",
    "])"
   ]
  },
  {
   "cell_type": "markdown",
   "id": "6d60069c-ef2c-4d43-8336-a2121b3533a9",
   "metadata": {},
   "source": [
    "### Train"
   ]
  },
  {
   "cell_type": "code",
   "execution_count": 9,
   "id": "228fc0f6-0146-46e2-b4af-c5fadf6468a5",
   "metadata": {},
   "outputs": [
    {
     "data": {
      "text/plain": [
       "Pipeline(steps=[('preprocessor',\n",
       "                 ColumnTransformer(transformers=[('num',\n",
       "                                                  Pipeline(steps=[('imputer',\n",
       "                                                                   SimpleImputer()),\n",
       "                                                                  ('scaler',\n",
       "                                                                   StandardScaler())]),\n",
       "                                                  ['Km', 'Vechime',\n",
       "                                                   'Capacitate cilindrica',\n",
       "                                                   'Putere']),\n",
       "                                                 ('cat',\n",
       "                                                  Pipeline(steps=[('imputer',\n",
       "                                                                   SimpleImputer(strategy='most_frequent')),\n",
       "                                                                  ('onehot',\n",
       "                                                                   OneHotEncoder(handle_unknown='ignore'))]),\n",
       "                                                  ['Marca', 'Model', 'Versiune',\n",
       "                                                   'Combustibil', 'Transmisie',\n",
       "                                                   'Norma de poluare',\n",
       "                                                   'Tip Caroserie',\n",
       "                                                   'Cutie de viteze', 'Stare',\n",
       "                                                   'Tara de origine',\n",
       "                                                   'Optiuni culoare'])])),\n",
       "                ('regressor',\n",
       "                 MLPRegressor(hidden_layer_sizes=50, learning_rate_init=0.01,\n",
       "                              max_iter=10000000, random_state=18))])"
      ]
     },
     "execution_count": 9,
     "metadata": {},
     "output_type": "execute_result"
    }
   ],
   "source": [
    "# Train the model\n",
    "model.fit(X_train, y_train)"
   ]
  },
  {
   "cell_type": "code",
   "execution_count": 10,
   "id": "313f52a0-e20c-4361-bdd7-87f4239a8c5b",
   "metadata": {},
   "outputs": [],
   "source": [
    "pickle.dump(model, open(os.path.join(PATH_PLOTS, 'model.pkl'), 'wb'))"
   ]
  },
  {
   "cell_type": "code",
   "execution_count": 11,
   "id": "c67fd8a6-eff7-43a8-b875-0d2ace64373c",
   "metadata": {},
   "outputs": [
    {
     "data": {
      "image/png": "[encoded data removed]",
      "text/plain": [
       "<Figure size 432x288 with 1 Axes>"
      ]
     },
     "metadata": {
      "needs_background": "light"
     },
     "output_type": "display_data"
    }
   ],
   "source": [
    "train_loss = model.named_steps['regressor'].loss_curve_\n",
    "\n",
    "# Plot the training loss\n",
    "plt.plot(range(1, len(train_loss) + 1), train_loss, label='Train Loss')\n",
    "plt.title('MLPRegressor Training Loss Over Iterations')\n",
    "plt.xlabel('Iteration')\n",
    "plt.ylabel('Loss')\n",
    "plt.legend()\n",
    "plt.savefig(os.path.join(PATH_PLOTS, 'MLPRegressor_training_loss_over_iterations.png'))\n",
    "plt.show()"
   ]
  },
  {
   "cell_type": "markdown",
   "id": "7a9e4465-e5f1-466d-b4e8-d2f5f395d48f",
   "metadata": {},
   "source": [
    "### Test on validation"
   ]
  },
  {
   "cell_type": "code",
   "execution_count": 12,
   "id": "c7116869-52cb-4b95-a3ff-b08dade37005",
   "metadata": {},
   "outputs": [
    {
     "name": "stdout",
     "output_type": "stream",
     "text": [
      "The MAE score of the model on validation data is: 1878.798219550693\n",
      "The MSE score of the model on validation data is: 55083149.272289485\n",
      "The RMSE score of the model on validation data is: 7421.802292724422\n"
     ]
    }
   ],
   "source": [
    "predictions = model.predict(X_valid)\n",
    "\n",
    "mae = mean_absolute_error(y_valid, predictions)\n",
    "print(\"The MAE score of the model on validation data is: \" + str(mae))\n",
    "\n",
    "mse = mean_squared_error(y_valid, predictions)\n",
    "print(\"The MSE score of the model on validation data is: \" + str(mse))\n",
    "\n",
    "rmse = mean_squared_error(y_valid, predictions, squared=False)\n",
    "print(\"The RMSE score of the model on validation data is: \" + str(rmse))\n",
    "\n",
    "\n",
    "with open(os.path.join(PATH_PLOTS, \"Logs.txt\"), \"w\") as file:\n",
    "    file.write(\"The MAE score of the model on validation data is: \" + str(mae) + '\\n')\n",
    "    file.write(\"The MSE score of the model on validation data is: \" + str(mse) + '\\n')    \n",
    "    file.write(\"The RMSE score of the model on validation data is: \" + str(rmse) + '\\n')    "
   ]
  },
  {
   "cell_type": "markdown",
   "id": "296e90fe-f47d-45af-bc38-8719dee57334",
   "metadata": {},
   "source": [
    "### Plots"
   ]
  },
  {
   "cell_type": "code",
   "execution_count": 13,
   "id": "11f07470-eeef-4570-a849-9addcff9c73d",
   "metadata": {},
   "outputs": [
    {
     "data": {
      "image/png": "[encoded data removed]",
      "text/plain": [
       "<Figure size 720x432 with 1 Axes>"
      ]
     },
     "metadata": {
      "needs_background": "light"
     },
     "output_type": "display_data"
    }
   ],
   "source": [
    "# Create a scatter plot of true values vs predicted values\n",
    "plt.figure(figsize=(10, 6))\n",
    "sns.scatterplot(x=y_valid, y=predictions)\n",
    "plt.title('True Values vs Predicted Values')\n",
    "plt.xlabel('True Values')\n",
    "plt.ylabel('Predicted Values')\n",
    "plt.savefig(os.path.join(PATH_PLOTS, 'True_vs_predicted_plot.png'))\n",
    "plt.show()"
   ]
  },
  {
   "cell_type": "code",
   "execution_count": 14,
   "id": "492c13d2-b328-43ed-96fc-d49f818525da",
   "metadata": {},
   "outputs": [
    {
     "data": {
      "image/png": "[encoded data removed]",
      "text/plain": [
       "<Figure size 720x432 with 1 Axes>"
      ]
     },
     "metadata": {
      "needs_background": "light"
     },
     "output_type": "display_data"
    }
   ],
   "source": [
    "# Create a residual plot to analyze errors\n",
    "residuals = y_valid - predictions\n",
    "plt.figure(figsize=(10, 6))\n",
    "sns.scatterplot(x=y_valid, y=residuals)\n",
    "plt.axhline(y=0, color='r', linestyle='--')\n",
    "plt.title('Residual Plot')\n",
    "plt.xlabel('True Values')\n",
    "plt.ylabel('Residuals')\n",
    "plt.savefig(os.path.join(PATH_PLOTS, 'Residual_plot.png'))\n",
    "plt.show()"
   ]
  },
  {
   "cell_type": "code",
   "execution_count": null,
   "id": "10962d2b-3d07-44c6-869a-813dc298ca95",
   "metadata": {},
   "outputs": [],
   "source": []
  }
 ],
 "metadata": {
  "kernelspec": {
   "display_name": "Python 3 (ipykernel)",
   "language": "python",
   "name": "python3"
  },
  "language_info": {
   "codemirror_mode": {
    "name": "ipython",
    "version": 3
   },
   "file_extension": ".py",
   "mimetype": "text/x-python",
   "name": "python",
   "nbconvert_exporter": "python",
   "pygments_lexer": "ipython3",
   "version": "3.8.13"
  }
 },
 "nbformat": 4,
 "nbformat_minor": 5
}
