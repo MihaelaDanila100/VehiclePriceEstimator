{
 "cells": [
  {
   "cell_type": "code",
   "execution_count": 2,
   "id": "3f351035-b49d-47fe-9219-14b4f4721d11",
   "metadata": {},
   "outputs": [],
   "source": [
    "from tqdm import tqdm\n",
    "import pandas as pd\n",
    "from sklearn.feature_extraction.text import TfidfVectorizer\n",
    "from sklearn.feature_extraction.text import CountVectorizer\n",
    "from sklearn.metrics import mean_absolute_error, mean_squared_error\n",
    "from sklearn.model_selection import train_test_split\n",
    "from sklearn.pipeline import Pipeline\n",
    "from sklearn.preprocessing import OneHotEncoder, StandardScaler\n",
    "from sklearn.compose import ColumnTransformer\n",
    "from sklearn.linear_model import LinearRegression\n",
    "from sklearn.impute import SimpleImputer\n",
    "import random\n",
    "import matplotlib.pyplot as plt\n",
    "import seaborn as sns\n",
    "import os"
   ]
  },
  {
   "cell_type": "code",
   "execution_count": 3,
   "id": "b33305ce-da71-4ef1-8da9-fe0f87d0f85a",
   "metadata": {},
   "outputs": [],
   "source": [
    "PATH_TRAIN = \"datasets/train.csv\"\n",
    "PATH_VALID = \"datasets/valid.csv\""
   ]
  },
  {
   "cell_type": "code",
   "execution_count": 4,
   "id": "39d617b9-f70c-42f4-b3b5-0b51ad1d8ef7",
   "metadata": {},
   "outputs": [
    {
     "name": "stdout",
     "output_type": "stream",
     "text": [
      "                     Versiune  Vechime      Km  Putere  Capacitate cilindrica  \\\n",
      "0          D4 AWD Inscription      6.0  124000     190                   1969   \n",
      "1      109 CDI Extralung Mixt      5.0   36000      90                   1461   \n",
      "2  1.6 BlueHDi FAP STT Active      8.0  219000     120                   1560   \n",
      "3      2.2 CRDi 2WD Signature      4.0   51500     202                   2151   \n",
      "4                  1.8 TSI FR     11.0  228300     160                   1798   \n",
      "\n",
      "           Marca     Model Combustibil     Transmisie Norma de poluare  \\\n",
      "0          Volvo     XC 60      Diesel  4x4 (automat)           Euro 6   \n",
      "1  Mercedes-Benz     Citan      Diesel           Fata           Euro 6   \n",
      "2        Peugeot       308      Diesel           Fata           Euro 6   \n",
      "3        Hyundai  Santa Fe      Diesel           Fata           Euro 6   \n",
      "4           Seat      Leon     Benzina           Fata           Euro 5   \n",
      "\n",
      "  Cutie de viteze Tip Caroserie Optiuni culoare Tara de origine        Stare  \n",
      "0        Automata           SUV      Metalizata          Italia  Second hand  \n",
      "1         Manuala     Monovolum      Metalizata         Romania  Second hand  \n",
      "2         Manuala         Combi      Metalizata          Olanda  Second hand  \n",
      "3        Automata           SUV      Metalizata          Franta  Second hand  \n",
      "4         Manuala      Compacta      Metalizata        Germania  Second hand  \n"
     ]
    }
   ],
   "source": [
    "data_train = pd.read_csv(PATH_TRAIN)\n",
    "data_valid = pd.read_csv(PATH_VALID)\n",
    "\n",
    "# Separate features (X) and target variable (y)\n",
    "y_train = data_train['Pret']\n",
    "X_train = data_train.drop('Pret', axis=1)\n",
    "\n",
    "y_valid = data_valid['Pret']\n",
    "X_valid = data_valid.drop('Pret', axis=1)\n",
    "\n",
    "print(X_train.head())"
   ]
  },
  {
   "cell_type": "code",
   "execution_count": 6,
   "id": "73124aa8-a05a-45d9-bcb0-94696608debf",
   "metadata": {},
   "outputs": [],
   "source": [
    "numeric_features = [\"Km\", \"Vechime\", \"Capacitate cilindrica\", \"Putere\"]\n",
    "categorical_features = [\"Marca\", \"Model\", \"Versiune\", \"Combustibil\", \"Transmisie\", \"Norma de poluare\", \"Tip Caroserie\", \"Cutie de viteze\", \"Stare\", \"Tara de origine\", \"Optiuni culoare\"]"
   ]
  },
  {
   "cell_type": "code",
   "execution_count": 7,
   "id": "cc83951e-29d8-4e84-b765-683a7fd9fdbb",
   "metadata": {},
   "outputs": [],
   "source": [
    "numeric_transformer = Pipeline(steps=[\n",
    "    ('imputer', SimpleImputer(strategy='mean')),\n",
    "    ('scaler', StandardScaler())\n",
    "])\n",
    "\n",
    "categorical_transformer = Pipeline(steps=[\n",
    "    ('imputer', SimpleImputer(strategy='most_frequent')),\n",
    "    ('onehot', OneHotEncoder(handle_unknown='ignore'))\n",
    "])\n",
    "\n",
    "preprocessor = ColumnTransformer(\n",
    "    transformers=[\n",
    "        ('num', numeric_transformer, numeric_features),\n",
    "        ('cat', categorical_transformer, categorical_features)\n",
    "    ])"
   ]
  },
  {
   "cell_type": "code",
   "execution_count": 9,
   "id": "a2577344-13e1-46af-b3f3-de2bf7ebf8a7",
   "metadata": {},
   "outputs": [
    {
     "data": {
      "text/plain": [
       "Pipeline(steps=[('preprocessor',\n",
       "                 ColumnTransformer(transformers=[('num',\n",
       "                                                  Pipeline(steps=[('imputer',\n",
       "                                                                   SimpleImputer()),\n",
       "                                                                  ('scaler',\n",
       "                                                                   StandardScaler())]),\n",
       "                                                  ['Km', 'Vechime',\n",
       "                                                   'Capacitate cilindrica',\n",
       "                                                   'Putere']),\n",
       "                                                 ('cat',\n",
       "                                                  Pipeline(steps=[('imputer',\n",
       "                                                                   SimpleImputer(strategy='most_frequent')),\n",
       "                                                                  ('onehot',\n",
       "                                                                   OneHotEncoder(handle_unknown='ignore'))]),\n",
       "                                                  ['Marca', 'Model', 'Versiune',\n",
       "                                                   'Combustibil', 'Transmisie',\n",
       "                                                   'Norma de poluare',\n",
       "                                                   'Tip Caroserie',\n",
       "                                                   'Cutie de viteze', 'Stare',\n",
       "                                                   'Tara de origine',\n",
       "                                                   'Optiuni culoare'])])),\n",
       "                ('regressor', LinearRegression())])"
      ]
     },
     "execution_count": 9,
     "metadata": {},
     "output_type": "execute_result"
    }
   ],
   "source": [
    "regressor = LinearRegression()\n",
    "\n",
    "model = Pipeline(steps=[\n",
    "    ('preprocessor', preprocessor),\n",
    "    ('regressor', regressor)\n",
    "])\n",
    "\n",
    "model.fit(X_train, y_train)"
   ]
  },
  {
   "cell_type": "code",
   "execution_count": 11,
   "id": "c0f02d4e-cdda-4543-8e0a-61e7a277ebce",
   "metadata": {},
   "outputs": [
    {
     "name": "stdout",
     "output_type": "stream",
     "text": [
      "The MAE score of the model on validation data is: 3446.103228750248\n",
      "The RMSE score of the model on validation data is: 8549.60924256812\n"
     ]
    }
   ],
   "source": [
    "predictions = model.predict(X_valid)\n",
    "\n",
    "mae = mean_absolute_error(y_valid, predictions)\n",
    "print(\"The MAE score of the model on validation data is: \" + str(mae))\n",
    "\n",
    "rmse = mean_squared_error(y_valid, predictions, squared=False)\n",
    "print(\"The RMSE score of the model on validation data is: \" + str(rmse))"
   ]
  },
  {
   "cell_type": "code",
   "execution_count": null,
   "id": "9185e406-fc3d-4be8-909e-58d49f519565",
   "metadata": {},
   "outputs": [],
   "source": []
  }
 ],
 "metadata": {
  "kernelspec": {
   "display_name": "Python 3 (ipykernel)",
   "language": "python",
   "name": "python3"
  },
  "language_info": {
   "codemirror_mode": {
    "name": "ipython",
    "version": 3
   },
   "file_extension": ".py",
   "mimetype": "text/x-python",
   "name": "python",
   "nbconvert_exporter": "python",
   "pygments_lexer": "ipython3",
   "version": "3.9.13"
  }
 },
 "nbformat": 4,
 "nbformat_minor": 5
}
